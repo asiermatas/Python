{
 "cells": [
  {
   "cell_type": "markdown",
   "metadata": {},
   "source": [
    "# Parte 2\n",
    "\n",
    "En esta segunda parte trabajaremos con información en XML. Concretamente, el gobierno\n",
    "británico nos ofrece datasets sobre eventos de tráfico:\n",
    "\n",
    "https://data.gov.uk/dataset/live-traffic-information-from-the-highways-agency-road-network\n",
    "\n",
    "Trabajaremos con los “Unplanned Events” que se proporcionan en un formato XML. Se puede\n",
    "descargar de esta URL:\n",
    "\n",
    "http://hatrafficinfo.dft.gov.uk/feeds/datex/England/UnplannedEvent/content.xml\n",
    "\n",
    "Concretamente, contiene un conjunto de situaciones (“situation”) y dentro de la descripción\n",
    "de las situaciones, nos interesa el impacto (“impact”).\n",
    "\n",
    "Investiga el impacto de los eventos no planificados en las variables que aporten algo de\n",
    "información. Por ejemplo, la variable “capacityRemaining” indica la capacidad de la vía que\n",
    "la situación dejó sin afectar, y en ocasiones indica obstrucción total (valor 0.0) pero en otros\n",
    "casos sólo parcial. Estudia descriptivamente al menos 3 de las variables, sean numéricas o\n",
    "categóricas, dentro de las que describen el impacto solamente."
   ]
  },
  {
   "cell_type": "code",
   "execution_count": 28,
   "metadata": {
    "collapsed": false
   },
   "outputs": [],
   "source": [
    "# primero, las libreias a utilizar\n",
    "\n",
    "import pandas as pd\n",
    "from lxml import objectify\n",
    "import datetime\n",
    "import matplotlib.pyplot as plt\n",
    "import scipy, pylab"
   ]
  },
  {
   "cell_type": "code",
   "execution_count": 29,
   "metadata": {
    "collapsed": false
   },
   "outputs": [
    {
     "name": "stdout",
     "output_type": "stream",
     "text": [
      " El volumen de la unidad C es Acer\n",
      " El n£mero de serie del volumen es: AEA3-EDCB\n",
      "\n",
      " Directorio de C:\\Asier\\MASTER\\Clases\\Data science Python\\Entregable 2\n",
      "\n",
      "\n",
      " Directorio de C:\\Asier\\MASTER\\Clases\\Data science Python\\Entregable 2\n",
      "\n",
      "23/10/2016  18:42            24.628 UK.xml\n",
      "               1 archivos         24.628 bytes\n",
      "               0 dirs  1.224.206.843.904 bytes libres\n"
     ]
    }
   ],
   "source": [
    "# A continuacion vamos a importar el fichero XML UK.xml que nos hemos bajado de la dirección indicada\n",
    "# Cargamos el fichero XML en memoria\n",
    "\n",
    "%ls -l *.xml\n",
    "\n",
    "from lxml import objectify\n",
    "parsed = objectify.parse('UK.xml')\n",
    "raiz = parsed.getroot()\n",
    "\n"
   ]
  },
  {
   "cell_type": "code",
   "execution_count": 65,
   "metadata": {
    "collapsed": false
   },
   "outputs": [],
   "source": [
    "# vamos a cargar los campos de impacto y el GUID\n",
    "\n",
    "situation=[]\n",
    "situationRecord=[]\n",
    "probabilityOfOccurrence=[]\n",
    "impactOnTraffic =[]\n",
    "capacityRemaining=[]\n",
    "numberOfLanesRestricted=[]\n",
    "numberOfOperationalLanes =[]\n",
    "originalNumberOfLanes = []\n",
    "trafficRestrictionType = []\n",
    "delayTimeValue = []\n",
    "overallStartTime = []\n",
    "overallEndTime = []\n",
    "\n",
    "for row in root.payloadPublication.situation:\n",
    "    situation.append(row.get('id'))\n",
    "    probabilityOfOccurrence.append(row.situationRecord.probabilityOfOccurrence.text)\n",
    "    impactOnTraffic.append(row.situationRecord.impact.impactOnTraffic.text)\n",
    "    capacityRemaining.append(float(row.situationRecord.impact.impactDetails.capacityRemaining.text))\n",
    "    numberOfLanesRestricted.append(int(row.situationRecord.impact.impactDetails.numberOfLanesRestricted.text))\n",
    "    numberOfOperationalLanes.append(int(row.situationRecord.impact.impactDetails.numberOfOperationalLanes.text))\n",
    "    originalNumberOfLanes.append(int(row.situationRecord.impact.impactDetails.originalNumberOfLanes.text))\n",
    "    trafficRestrictionType.append( row.situationRecord.impact.impactDetails.trafficRestrictionType.text)\n",
    "    delayTimeValue.append(float(row.situationRecord.impact.delays.delayTimeValue.text))\n",
    "    overallStartTime.append(row.situationRecord.validity.validityTimeSpecification.overallStartTime.text)\n",
    "    overallEndTime.append(row.situationRecord.validity.validityTimeSpecification.overallEndTime.text)\n"
   ]
  },
  {
   "cell_type": "code",
   "execution_count": 67,
   "metadata": {
    "collapsed": false
   },
   "outputs": [
    {
     "data": {
      "text/html": [
       "<div>\n",
       "<table border=\"1\" class=\"dataframe\">\n",
       "  <thead>\n",
       "    <tr style=\"text-align: right;\">\n",
       "      <th></th>\n",
       "      <th>situation</th>\n",
       "      <th>probabilityOfOccurrence</th>\n",
       "      <th>impactOnTraffic</th>\n",
       "      <th>capacityRemaining</th>\n",
       "      <th>numberOfLanesRestricted</th>\n",
       "      <th>numberOfOperationalLanes</th>\n",
       "      <th>originalNumberOfLanes</th>\n",
       "      <th>trafficRestrictionType</th>\n",
       "      <th>delayTimeValue</th>\n",
       "      <th>overallStartTime</th>\n",
       "      <th>overallEndTime</th>\n",
       "    </tr>\n",
       "  </thead>\n",
       "  <tbody>\n",
       "    <tr>\n",
       "      <th>0</th>\n",
       "      <td>GUID732336731</td>\n",
       "      <td>certain</td>\n",
       "      <td>heavy</td>\n",
       "      <td>75.0</td>\n",
       "      <td>1</td>\n",
       "      <td>3</td>\n",
       "      <td>4</td>\n",
       "      <td>carriagewayPartiallyObstructed</td>\n",
       "      <td>600.0</td>\n",
       "      <td>2015-12-03T04:11:04Z</td>\n",
       "      <td>2015-12-07T23:00:00Z</td>\n",
       "    </tr>\n",
       "    <tr>\n",
       "      <th>1</th>\n",
       "      <td>GUID732889125</td>\n",
       "      <td>certain</td>\n",
       "      <td>impossible</td>\n",
       "      <td>0.0</td>\n",
       "      <td>2</td>\n",
       "      <td>0</td>\n",
       "      <td>2</td>\n",
       "      <td>carriagewayBlocked</td>\n",
       "      <td>900.0</td>\n",
       "      <td>2015-12-06T17:35:05Z</td>\n",
       "      <td>2015-12-07T23:00:00Z</td>\n",
       "    </tr>\n",
       "    <tr>\n",
       "      <th>2</th>\n",
       "      <td>GUID732957845</td>\n",
       "      <td>certain</td>\n",
       "      <td>impossible</td>\n",
       "      <td>0.0</td>\n",
       "      <td>1</td>\n",
       "      <td>0</td>\n",
       "      <td>1</td>\n",
       "      <td>carriagewayBlocked</td>\n",
       "      <td>600.0</td>\n",
       "      <td>2015-12-07T05:12:59Z</td>\n",
       "      <td>2015-12-07T23:00:00Z</td>\n",
       "    </tr>\n",
       "    <tr>\n",
       "      <th>3</th>\n",
       "      <td>GUID733038589</td>\n",
       "      <td>certain</td>\n",
       "      <td>impossible</td>\n",
       "      <td>0.0</td>\n",
       "      <td>1</td>\n",
       "      <td>0</td>\n",
       "      <td>1</td>\n",
       "      <td>carriagewayBlocked</td>\n",
       "      <td>0.0</td>\n",
       "      <td>2015-12-07T18:08:48Z</td>\n",
       "      <td>2015-12-07T21:45:00Z</td>\n",
       "    </tr>\n",
       "    <tr>\n",
       "      <th>4</th>\n",
       "      <td>GUID733038591</td>\n",
       "      <td>certain</td>\n",
       "      <td>impossible</td>\n",
       "      <td>0.0</td>\n",
       "      <td>1</td>\n",
       "      <td>0</td>\n",
       "      <td>1</td>\n",
       "      <td>carriagewayBlocked</td>\n",
       "      <td>0.0</td>\n",
       "      <td>2015-12-07T18:08:49Z</td>\n",
       "      <td>2015-12-07T21:45:00Z</td>\n",
       "    </tr>\n",
       "    <tr>\n",
       "      <th>5</th>\n",
       "      <td>GUID733043648</td>\n",
       "      <td>certain</td>\n",
       "      <td>freeFlow</td>\n",
       "      <td>33.0</td>\n",
       "      <td>2</td>\n",
       "      <td>1</td>\n",
       "      <td>3</td>\n",
       "      <td>carriagewayPartiallyObstructed</td>\n",
       "      <td>0.0</td>\n",
       "      <td>2015-12-07T19:04:45Z</td>\n",
       "      <td>2015-12-07T20:15:00Z</td>\n",
       "    </tr>\n",
       "  </tbody>\n",
       "</table>\n",
       "</div>"
      ],
      "text/plain": [
       "       situation probabilityOfOccurrence impactOnTraffic  capacityRemaining  \\\n",
       "0  GUID732336731                 certain           heavy               75.0   \n",
       "1  GUID732889125                 certain      impossible                0.0   \n",
       "2  GUID732957845                 certain      impossible                0.0   \n",
       "3  GUID733038589                 certain      impossible                0.0   \n",
       "4  GUID733038591                 certain      impossible                0.0   \n",
       "5  GUID733043648                 certain        freeFlow               33.0   \n",
       "\n",
       "   numberOfLanesRestricted  numberOfOperationalLanes  originalNumberOfLanes  \\\n",
       "0                        1                         3                      4   \n",
       "1                        2                         0                      2   \n",
       "2                        1                         0                      1   \n",
       "3                        1                         0                      1   \n",
       "4                        1                         0                      1   \n",
       "5                        2                         1                      3   \n",
       "\n",
       "           trafficRestrictionType  delayTimeValue      overallStartTime  \\\n",
       "0  carriagewayPartiallyObstructed           600.0  2015-12-03T04:11:04Z   \n",
       "1              carriagewayBlocked           900.0  2015-12-06T17:35:05Z   \n",
       "2              carriagewayBlocked           600.0  2015-12-07T05:12:59Z   \n",
       "3              carriagewayBlocked             0.0  2015-12-07T18:08:48Z   \n",
       "4              carriagewayBlocked             0.0  2015-12-07T18:08:49Z   \n",
       "5  carriagewayPartiallyObstructed             0.0  2015-12-07T19:04:45Z   \n",
       "\n",
       "         overallEndTime  \n",
       "0  2015-12-07T23:00:00Z  \n",
       "1  2015-12-07T23:00:00Z  \n",
       "2  2015-12-07T23:00:00Z  \n",
       "3  2015-12-07T21:45:00Z  \n",
       "4  2015-12-07T21:45:00Z  \n",
       "5  2015-12-07T20:15:00Z  "
      ]
     },
     "execution_count": 67,
     "metadata": {},
     "output_type": "execute_result"
    }
   ],
   "source": [
    "\n",
    "# creamos el dataframe con la información obtenida\n",
    "\n",
    "data = pd.DataFrame()\n",
    "data['situation'] = situation\n",
    "data['probabilityOfOccurrence'] = probabilityOfOccurrence\n",
    "data['impactOnTraffic'] = impactOnTraffic\n",
    "data['capacityRemaining'] = capacityRemaining\n",
    "data['numberOfLanesRestricted'] = numberOfLanesRestricted\n",
    "data['numberOfOperationalLanes'] = numberOfOperationalLanes\n",
    "data['originalNumberOfLanes'] = originalNumberOfLanes\n",
    "data['trafficRestrictionType'] = trafficRestrictionType\n",
    "data['delayTimeValue'] = delayTimeValue\n",
    "data['overallStartTime'] = overallStartTime\n",
    "data['overallEndTime'] = overallEndTime\n",
    "\n",
    "# Y lo visualizamos \n",
    "\n",
    "data\n"
   ]
  },
  {
   "cell_type": "code",
   "execution_count": 117,
   "metadata": {
    "collapsed": false
   },
   "outputs": [
    {
     "data": {
      "text/html": [
       "<div>\n",
       "<table border=\"1\" class=\"dataframe\">\n",
       "  <thead>\n",
       "    <tr style=\"text-align: right;\">\n",
       "      <th></th>\n",
       "      <th>situation</th>\n",
       "      <th>probabilityOfOccurrence</th>\n",
       "      <th>impactOnTraffic</th>\n",
       "      <th>capacityRemaining</th>\n",
       "      <th>numberOfLanesRestricted</th>\n",
       "      <th>numberOfOperationalLanes</th>\n",
       "      <th>originalNumberOfLanes</th>\n",
       "      <th>trafficRestrictionType</th>\n",
       "      <th>delayTimeValue</th>\n",
       "      <th>overallStartTime</th>\n",
       "      <th>overallEndTime</th>\n",
       "    </tr>\n",
       "  </thead>\n",
       "  <tbody>\n",
       "    <tr>\n",
       "      <th>1</th>\n",
       "      <td>GUID732889125</td>\n",
       "      <td>certain</td>\n",
       "      <td>impossible</td>\n",
       "      <td>0.0</td>\n",
       "      <td>2</td>\n",
       "      <td>0</td>\n",
       "      <td>2</td>\n",
       "      <td>carriagewayBlocked</td>\n",
       "      <td>900.0</td>\n",
       "      <td>2015-12-06T17:35:05Z</td>\n",
       "      <td>2015-12-07T23:00:00Z</td>\n",
       "    </tr>\n",
       "    <tr>\n",
       "      <th>2</th>\n",
       "      <td>GUID732957845</td>\n",
       "      <td>certain</td>\n",
       "      <td>impossible</td>\n",
       "      <td>0.0</td>\n",
       "      <td>1</td>\n",
       "      <td>0</td>\n",
       "      <td>1</td>\n",
       "      <td>carriagewayBlocked</td>\n",
       "      <td>600.0</td>\n",
       "      <td>2015-12-07T05:12:59Z</td>\n",
       "      <td>2015-12-07T23:00:00Z</td>\n",
       "    </tr>\n",
       "    <tr>\n",
       "      <th>3</th>\n",
       "      <td>GUID733038589</td>\n",
       "      <td>certain</td>\n",
       "      <td>impossible</td>\n",
       "      <td>0.0</td>\n",
       "      <td>1</td>\n",
       "      <td>0</td>\n",
       "      <td>1</td>\n",
       "      <td>carriagewayBlocked</td>\n",
       "      <td>0.0</td>\n",
       "      <td>2015-12-07T18:08:48Z</td>\n",
       "      <td>2015-12-07T21:45:00Z</td>\n",
       "    </tr>\n",
       "    <tr>\n",
       "      <th>4</th>\n",
       "      <td>GUID733038591</td>\n",
       "      <td>certain</td>\n",
       "      <td>impossible</td>\n",
       "      <td>0.0</td>\n",
       "      <td>1</td>\n",
       "      <td>0</td>\n",
       "      <td>1</td>\n",
       "      <td>carriagewayBlocked</td>\n",
       "      <td>0.0</td>\n",
       "      <td>2015-12-07T18:08:49Z</td>\n",
       "      <td>2015-12-07T21:45:00Z</td>\n",
       "    </tr>\n",
       "  </tbody>\n",
       "</table>\n",
       "</div>"
      ],
      "text/plain": [
       "       situation probabilityOfOccurrence impactOnTraffic  capacityRemaining  \\\n",
       "1  GUID732889125                 certain      impossible                0.0   \n",
       "2  GUID732957845                 certain      impossible                0.0   \n",
       "3  GUID733038589                 certain      impossible                0.0   \n",
       "4  GUID733038591                 certain      impossible                0.0   \n",
       "\n",
       "   numberOfLanesRestricted  numberOfOperationalLanes  originalNumberOfLanes  \\\n",
       "1                        2                         0                      2   \n",
       "2                        1                         0                      1   \n",
       "3                        1                         0                      1   \n",
       "4                        1                         0                      1   \n",
       "\n",
       "  trafficRestrictionType  delayTimeValue      overallStartTime  \\\n",
       "1     carriagewayBlocked           900.0  2015-12-06T17:35:05Z   \n",
       "2     carriagewayBlocked           600.0  2015-12-07T05:12:59Z   \n",
       "3     carriagewayBlocked             0.0  2015-12-07T18:08:48Z   \n",
       "4     carriagewayBlocked             0.0  2015-12-07T18:08:49Z   \n",
       "\n",
       "         overallEndTime  \n",
       "1  2015-12-07T23:00:00Z  \n",
       "2  2015-12-07T23:00:00Z  \n",
       "3  2015-12-07T21:45:00Z  \n",
       "4  2015-12-07T21:45:00Z  "
      ]
     },
     "execution_count": 117,
     "metadata": {},
     "output_type": "execute_result"
    }
   ],
   "source": [
    "# Al ser tan pocos los datoss es facil ver la relacción directa entre las variables:\n",
    "\n",
    "# Impactontraffic - Capacity remaining - number Of Operational Lanes... \n",
    "\n",
    "# así seleccionamos los que tengan impacto en el traffico imposible\n",
    "\n",
    "selec = data[data.impactOnTraffic == \"impossible\"]\n",
    "\n",
    "selec"
   ]
  },
  {
   "cell_type": "code",
   "execution_count": 118,
   "metadata": {
    "collapsed": false
   },
   "outputs": [
    {
     "data": {
      "text/html": [
       "<div>\n",
       "<table border=\"1\" class=\"dataframe\">\n",
       "  <thead>\n",
       "    <tr style=\"text-align: right;\">\n",
       "      <th></th>\n",
       "      <th>situation</th>\n",
       "      <th>probabilityOfOccurrence</th>\n",
       "      <th>impactOnTraffic</th>\n",
       "      <th>capacityRemaining</th>\n",
       "      <th>numberOfLanesRestricted</th>\n",
       "      <th>numberOfOperationalLanes</th>\n",
       "      <th>originalNumberOfLanes</th>\n",
       "      <th>trafficRestrictionType</th>\n",
       "      <th>delayTimeValue</th>\n",
       "      <th>overallStartTime</th>\n",
       "      <th>overallEndTime</th>\n",
       "    </tr>\n",
       "  </thead>\n",
       "  <tbody>\n",
       "    <tr>\n",
       "      <th>1</th>\n",
       "      <td>GUID732889125</td>\n",
       "      <td>certain</td>\n",
       "      <td>impossible</td>\n",
       "      <td>0.0</td>\n",
       "      <td>2</td>\n",
       "      <td>0</td>\n",
       "      <td>2</td>\n",
       "      <td>carriagewayBlocked</td>\n",
       "      <td>900.0</td>\n",
       "      <td>2015-12-06T17:35:05Z</td>\n",
       "      <td>2015-12-07T23:00:00Z</td>\n",
       "    </tr>\n",
       "    <tr>\n",
       "      <th>2</th>\n",
       "      <td>GUID732957845</td>\n",
       "      <td>certain</td>\n",
       "      <td>impossible</td>\n",
       "      <td>0.0</td>\n",
       "      <td>1</td>\n",
       "      <td>0</td>\n",
       "      <td>1</td>\n",
       "      <td>carriagewayBlocked</td>\n",
       "      <td>600.0</td>\n",
       "      <td>2015-12-07T05:12:59Z</td>\n",
       "      <td>2015-12-07T23:00:00Z</td>\n",
       "    </tr>\n",
       "    <tr>\n",
       "      <th>3</th>\n",
       "      <td>GUID733038589</td>\n",
       "      <td>certain</td>\n",
       "      <td>impossible</td>\n",
       "      <td>0.0</td>\n",
       "      <td>1</td>\n",
       "      <td>0</td>\n",
       "      <td>1</td>\n",
       "      <td>carriagewayBlocked</td>\n",
       "      <td>0.0</td>\n",
       "      <td>2015-12-07T18:08:48Z</td>\n",
       "      <td>2015-12-07T21:45:00Z</td>\n",
       "    </tr>\n",
       "    <tr>\n",
       "      <th>4</th>\n",
       "      <td>GUID733038591</td>\n",
       "      <td>certain</td>\n",
       "      <td>impossible</td>\n",
       "      <td>0.0</td>\n",
       "      <td>1</td>\n",
       "      <td>0</td>\n",
       "      <td>1</td>\n",
       "      <td>carriagewayBlocked</td>\n",
       "      <td>0.0</td>\n",
       "      <td>2015-12-07T18:08:49Z</td>\n",
       "      <td>2015-12-07T21:45:00Z</td>\n",
       "    </tr>\n",
       "  </tbody>\n",
       "</table>\n",
       "</div>"
      ],
      "text/plain": [
       "       situation probabilityOfOccurrence impactOnTraffic  capacityRemaining  \\\n",
       "1  GUID732889125                 certain      impossible                0.0   \n",
       "2  GUID732957845                 certain      impossible                0.0   \n",
       "3  GUID733038589                 certain      impossible                0.0   \n",
       "4  GUID733038591                 certain      impossible                0.0   \n",
       "\n",
       "   numberOfLanesRestricted  numberOfOperationalLanes  originalNumberOfLanes  \\\n",
       "1                        2                         0                      2   \n",
       "2                        1                         0                      1   \n",
       "3                        1                         0                      1   \n",
       "4                        1                         0                      1   \n",
       "\n",
       "  trafficRestrictionType  delayTimeValue      overallStartTime  \\\n",
       "1     carriagewayBlocked           900.0  2015-12-06T17:35:05Z   \n",
       "2     carriagewayBlocked           600.0  2015-12-07T05:12:59Z   \n",
       "3     carriagewayBlocked             0.0  2015-12-07T18:08:48Z   \n",
       "4     carriagewayBlocked             0.0  2015-12-07T18:08:49Z   \n",
       "\n",
       "         overallEndTime  \n",
       "1  2015-12-07T23:00:00Z  \n",
       "2  2015-12-07T23:00:00Z  \n",
       "3  2015-12-07T21:45:00Z  \n",
       "4  2015-12-07T21:45:00Z  "
      ]
     },
     "execution_count": 118,
     "metadata": {},
     "output_type": "execute_result"
    }
   ],
   "source": [
    "# seleccionamos los que tengan no carriles operativos \n",
    "\n",
    "selec2 = data[data.numberOfOperationalLanes == 0]\n",
    "\n",
    "selec2"
   ]
  },
  {
   "cell_type": "code",
   "execution_count": null,
   "metadata": {
    "collapsed": true
   },
   "outputs": [],
   "source": []
  },
  {
   "cell_type": "code",
   "execution_count": 119,
   "metadata": {
    "collapsed": false
   },
   "outputs": [
    {
     "data": {
      "text/html": [
       "<div>\n",
       "<table border=\"1\" class=\"dataframe\">\n",
       "  <thead>\n",
       "    <tr style=\"text-align: right;\">\n",
       "      <th></th>\n",
       "      <th>situation</th>\n",
       "      <th>probabilityOfOccurrence</th>\n",
       "      <th>impactOnTraffic</th>\n",
       "      <th>capacityRemaining</th>\n",
       "      <th>numberOfLanesRestricted</th>\n",
       "      <th>numberOfOperationalLanes</th>\n",
       "      <th>originalNumberOfLanes</th>\n",
       "      <th>trafficRestrictionType</th>\n",
       "      <th>delayTimeValue</th>\n",
       "      <th>overallStartTime</th>\n",
       "      <th>overallEndTime</th>\n",
       "    </tr>\n",
       "  </thead>\n",
       "  <tbody>\n",
       "    <tr>\n",
       "      <th>1</th>\n",
       "      <td>GUID732889125</td>\n",
       "      <td>certain</td>\n",
       "      <td>impossible</td>\n",
       "      <td>0.0</td>\n",
       "      <td>2</td>\n",
       "      <td>0</td>\n",
       "      <td>2</td>\n",
       "      <td>carriagewayBlocked</td>\n",
       "      <td>900.0</td>\n",
       "      <td>2015-12-06T17:35:05Z</td>\n",
       "      <td>2015-12-07T23:00:00Z</td>\n",
       "    </tr>\n",
       "    <tr>\n",
       "      <th>2</th>\n",
       "      <td>GUID732957845</td>\n",
       "      <td>certain</td>\n",
       "      <td>impossible</td>\n",
       "      <td>0.0</td>\n",
       "      <td>1</td>\n",
       "      <td>0</td>\n",
       "      <td>1</td>\n",
       "      <td>carriagewayBlocked</td>\n",
       "      <td>600.0</td>\n",
       "      <td>2015-12-07T05:12:59Z</td>\n",
       "      <td>2015-12-07T23:00:00Z</td>\n",
       "    </tr>\n",
       "    <tr>\n",
       "      <th>3</th>\n",
       "      <td>GUID733038589</td>\n",
       "      <td>certain</td>\n",
       "      <td>impossible</td>\n",
       "      <td>0.0</td>\n",
       "      <td>1</td>\n",
       "      <td>0</td>\n",
       "      <td>1</td>\n",
       "      <td>carriagewayBlocked</td>\n",
       "      <td>0.0</td>\n",
       "      <td>2015-12-07T18:08:48Z</td>\n",
       "      <td>2015-12-07T21:45:00Z</td>\n",
       "    </tr>\n",
       "    <tr>\n",
       "      <th>4</th>\n",
       "      <td>GUID733038591</td>\n",
       "      <td>certain</td>\n",
       "      <td>impossible</td>\n",
       "      <td>0.0</td>\n",
       "      <td>1</td>\n",
       "      <td>0</td>\n",
       "      <td>1</td>\n",
       "      <td>carriagewayBlocked</td>\n",
       "      <td>0.0</td>\n",
       "      <td>2015-12-07T18:08:49Z</td>\n",
       "      <td>2015-12-07T21:45:00Z</td>\n",
       "    </tr>\n",
       "  </tbody>\n",
       "</table>\n",
       "</div>"
      ],
      "text/plain": [
       "       situation probabilityOfOccurrence impactOnTraffic  capacityRemaining  \\\n",
       "1  GUID732889125                 certain      impossible                0.0   \n",
       "2  GUID732957845                 certain      impossible                0.0   \n",
       "3  GUID733038589                 certain      impossible                0.0   \n",
       "4  GUID733038591                 certain      impossible                0.0   \n",
       "\n",
       "   numberOfLanesRestricted  numberOfOperationalLanes  originalNumberOfLanes  \\\n",
       "1                        2                         0                      2   \n",
       "2                        1                         0                      1   \n",
       "3                        1                         0                      1   \n",
       "4                        1                         0                      1   \n",
       "\n",
       "  trafficRestrictionType  delayTimeValue      overallStartTime  \\\n",
       "1     carriagewayBlocked           900.0  2015-12-06T17:35:05Z   \n",
       "2     carriagewayBlocked           600.0  2015-12-07T05:12:59Z   \n",
       "3     carriagewayBlocked             0.0  2015-12-07T18:08:48Z   \n",
       "4     carriagewayBlocked             0.0  2015-12-07T18:08:49Z   \n",
       "\n",
       "         overallEndTime  \n",
       "1  2015-12-07T23:00:00Z  \n",
       "2  2015-12-07T23:00:00Z  \n",
       "3  2015-12-07T21:45:00Z  \n",
       "4  2015-12-07T21:45:00Z  "
      ]
     },
     "execution_count": 119,
     "metadata": {},
     "output_type": "execute_result"
    }
   ],
   "source": [
    "# y los que no tengan capacidad restante\n",
    "\n",
    "selec3 = data[data.capacityRemaining == 0]\n",
    "\n",
    "selec3"
   ]
  },
  {
   "cell_type": "code",
   "execution_count": null,
   "metadata": {
    "collapsed": true
   },
   "outputs": [],
   "source": [
    "#  vemos que en los tres casos los datos coinciden al 100% "
   ]
  },
  {
   "cell_type": "code",
   "execution_count": 105,
   "metadata": {
    "collapsed": false
   },
   "outputs": [],
   "source": [
    "\n",
    "# pero bueno, vamos a demostrarlo con graficos\n",
    "\n",
    "# empezamos por importar libreria para pintar\n",
    "\n",
    "%matplotlib inline\n",
    "\n",
    "import matplotlib.pyplot as plt\n",
    "\n",
    "import seaborn as sns\n",
    "\n"
   ]
  },
  {
   "cell_type": "code",
   "execution_count": 125,
   "metadata": {
    "collapsed": false
   },
   "outputs": [
    {
     "data": {
      "text/plain": [
       "array([[<matplotlib.axes._subplots.AxesSubplot object at 0x000001F82AE97748>,\n",
       "        <matplotlib.axes._subplots.AxesSubplot object at 0x000001F82AF4CBA8>],\n",
       "       [<matplotlib.axes._subplots.AxesSubplot object at 0x000001F82AF96BE0>,\n",
       "        <matplotlib.axes._subplots.AxesSubplot object at 0x000001F82AFCFDA0>],\n",
       "       [<matplotlib.axes._subplots.AxesSubplot object at 0x000001F82B01E630>,\n",
       "        <matplotlib.axes._subplots.AxesSubplot object at 0x000001F82B0610F0>]], dtype=object)"
      ]
     },
     "execution_count": 125,
     "metadata": {},
     "output_type": "execute_result"
    },
    {
     "data": {
      "image/png": "[encoded data removed]",
      "text/plain": [
       "<matplotlib.figure.Figure at 0x1f82a336da0>"
      ]
     },
     "metadata": {},
     "output_type": "display_data"
    }
   ],
   "source": [
    "# en el siguiente conjunto de gáficos \n",
    "\n",
    "data.hist(figsize=(12,10)) \n"
   ]
  },
  {
   "cell_type": "code",
   "execution_count": null,
   "metadata": {
    "collapsed": true
   },
   "outputs": [],
   "source": [
    "# con histogramas solo vemos el número de veces que ha aparecido un valor u otro por eso tendremos que utilizar \n",
    "# graficos que nos relacionen dos variable"
   ]
  },
  {
   "cell_type": "code",
   "execution_count": 124,
   "metadata": {
    "collapsed": false
   },
   "outputs": [
    {
     "data": {
      "text/plain": [
       "<matplotlib.axes._subplots.AxesSubplot at 0x1f82ab9c390>"
      ]
     },
     "execution_count": 124,
     "metadata": {},
     "output_type": "execute_result"
    },
    {
     "data": {
      "image/png": "[encoded data removed]",
      "text/plain": [
       "<matplotlib.figure.Figure at 0x1f82a61d0b8>"
      ]
     },
     "metadata": {},
     "output_type": "display_data"
    }
   ],
   "source": [
    "# Así pintamos la relacion entre capacidad restante e impacto de trafico\n",
    "\n",
    "graf = pd.crosstab(data.capacityRemaining, data.impactOnTraffic)\n",
    "graf.plot(kind='bar', stacked=True, color=['blue','green','red' ], grid=False)"
   ]
  },
  {
   "cell_type": "code",
   "execution_count": null,
   "metadata": {
    "collapsed": true
   },
   "outputs": [],
   "source": [
    "# vemos que cuando la capacidad es 0 , el impacto es que trafico siempre es imposible"
   ]
  },
  {
   "cell_type": "code",
   "execution_count": 122,
   "metadata": {
    "collapsed": false
   },
   "outputs": [
    {
     "data": {
      "text/plain": [
       "<matplotlib.axes._subplots.AxesSubplot at 0x1f82ae200f0>"
      ]
     },
     "execution_count": 122,
     "metadata": {},
     "output_type": "execute_result"
    },
    {
     "data": {
      "image/png": "[encoded data removed]",
      "text/plain": [
       "<matplotlib.figure.Figure at 0x1f82a4a0080>"
      ]
     },
     "metadata": {},
     "output_type": "display_data"
    }
   ],
   "source": [
    "# Ahora pintamos la relacion entre capacidad restante y numero de carriles operativos\n",
    "\n",
    "graf = pd.crosstab(data.capacityRemaining, numberOfOperationalLanes)\n",
    "graf.plot(kind='bar', stacked=True, color=['red','green','blue' ], grid=False)"
   ]
  },
  {
   "cell_type": "code",
   "execution_count": null,
   "metadata": {
    "collapsed": true
   },
   "outputs": [],
   "source": [
    "# Aquí vemos que cuando el número de carriles operativos es 0, logicamente la capaccidad siempre es 0 "
   ]
  },
  {
   "cell_type": "code",
   "execution_count": 123,
   "metadata": {
    "collapsed": false
   },
   "outputs": [
    {
     "data": {
      "text/plain": [
       "<matplotlib.axes._subplots.AxesSubplot at 0x1f82ab2e550>"
      ]
     },
     "execution_count": 123,
     "metadata": {},
     "output_type": "execute_result"
    },
    {
     "data": {
      "image/png": "[encoded data removed]",
      "text/plain": [
       "<matplotlib.figure.Figure at 0x1f82a533080>"
      ]
     },
     "metadata": {},
     "output_type": "display_data"
    }
   ],
   "source": [
    "# Y por último pintamos la relacion entre impacto de trafico y numero de carriles operativos\n",
    "\n",
    "graf = pd.crosstab(data.numberOfOperationalLanes, data.impactOnTraffic)\n",
    "graf.plot(kind='bar', stacked=True, color=['blue','green','red' ], grid=False)"
   ]
  },
  {
   "cell_type": "code",
   "execution_count": null,
   "metadata": {
    "collapsed": true
   },
   "outputs": [],
   "source": [
    "# vemos que cuando el número de carriles operativos es 0 , el impacto es que trafico siempre es imposible"
   ]
  },
  {
   "cell_type": "code",
   "execution_count": null,
   "metadata": {
    "collapsed": false
   },
   "outputs": [],
   "source": []
  },
  {
   "cell_type": "code",
   "execution_count": null,
   "metadata": {
    "collapsed": false
   },
   "outputs": [],
   "source": []
  },
  {
   "cell_type": "code",
   "execution_count": null,
   "metadata": {
    "collapsed": true
   },
   "outputs": [],
   "source": []
  },
  {
   "cell_type": "code",
   "execution_count": null,
   "metadata": {
    "collapsed": true
   },
   "outputs": [],
   "source": []
  },
  {
   "cell_type": "code",
   "execution_count": null,
   "metadata": {
    "collapsed": true
   },
   "outputs": [],
   "source": []
  }
 ],
 "metadata": {
  "anaconda-cloud": {},
  "kernelspec": {
   "display_name": "Python [Root]",
   "language": "python",
   "name": "Python [Root]"
  },
  "language_info": {
   "codemirror_mode": {
    "name": "ipython",
    "version": 3
   },
   "file_extension": ".py",
   "mimetype": "text/x-python",
   "name": "python",
   "nbconvert_exporter": "python",
   "pygments_lexer": "ipython3",
   "version": "3.5.2"
  }
 },
 "nbformat": 4,
 "nbformat_minor": 0
}
