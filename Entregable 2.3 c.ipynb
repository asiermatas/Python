{
 "cells": [
  {
   "cell_type": "markdown",
   "metadata": {},
   "source": [
    "# Parte 3\n",
    "\n",
    "El sitio Web NOOA del gobierno de EEUU proporciona datasets de datos climáticos a través de\n",
    "esta página Web:\n",
    "\n",
    "http://www.ncdc.noaa.gov/cdo-web/datasets\n",
    "\n",
    "Entre ellos tenemos los datasets “Quality Controlled Local Climatological Data (QCLCD)”\n",
    "que se describen aquí:\n",
    "\n",
    "http://www.ncdc.noaa.gov/data-access/land-based-station-data/land-baseddatasets/quality-controlled-local-climatological-data-qclcd\n",
    "\n",
    "Entre los datos que se encuentran en los datasets QCLCD están las precipitaciones por años y\n",
    "estaciones. Por ejemplo, podemos descargar los datasets de aquí:\n",
    "\n",
    "http://www.ncdc.noaa.gov/orders/qclcd/\n",
    "\n",
    "Y encontraremos ficheros con datos de precipitaciones como este:\n",
    "Wban Number, YearMonthDay, Time, Hourly Precip\n",
    "03013,19960701,0053,0\n",
    "03013,19960701,0153,0\n",
    "03013,19960701,0253,0\n",
    "03013,19960701,0353,0\n",
    "03013,19960701,0453,0\n",
    "…\n",
    "\n",
    "Se pide tomar datos de varios años (queda a la elección del estudiante) de este conjunto de\n",
    "datasets para las precipitaciones y obtener los siguientes resúmenes:\n",
    "\n",
    "- Día en que ha habido más precipitaciones.\n",
    "\n",
    "- Año en que ha habido más precipitaciones (obteniendo la media de cada año)\n",
    "\n",
    "Se pide realizar el análisis en dos versiones:\n",
    "\n",
    "- Una utilizando DataFrames y los ficheros de texto que se decargan directamente.\n",
    "\n",
    "- Una segunda con un paso previo en el que se guardan los datos en un fichero HDF5\n",
    "(que debe contener los metadatos descriptivos necesarios). Queda a la decisión del\n",
    "estudiante cómo organizar los datos en el fichero.\n",
    "\n",
    "Y se pide comparar:\n",
    "\n",
    "- El tamaño en disco que ocupan los datos en cada una de las versiones.\n",
    "\n",
    "- El tiempo comparado de ejecución de los resúmenes anteriores.\n",
    "\n",
    "Opcional: finalmente, se platea el almacenar en el fichero HDF5 los resúmenes mismos\n",
    "obtenidos y comparar el tiempo de recuperación de esos datos del fichero con el tiempo\n",
    "tardado en calcularlo."
   ]
  },
  {
   "cell_type": "code",
   "execution_count": 1,
   "metadata": {
    "collapsed": false
   },
   "outputs": [],
   "source": [
    "# importamos librerias que vamos a necesitar (y alguna extra porsiaca)\n",
    "\n",
    "import os\n",
    "import os.path\n",
    "import os, sys\n",
    "import tables as tb\n",
    "import numpy as np\n",
    "import pandas as pd\n",
    "import zipfile\n",
    "from time import time \n"
   ]
  },
  {
   "cell_type": "code",
   "execution_count": 2,
   "metadata": {
    "collapsed": false
   },
   "outputs": [],
   "source": [
    "# Vamos a trabajar con los datos de los años 2010 al 2011.\n",
    "\n",
    "fechas = [\"201001\", \"201002\",\"201003\",\"201004\",\"201005\",\"201006\",\"201007\",\"201008\",\"201009\",\"201010\",\"201011\",\"201012\",\"201101\",\"201102\",\"201103\",\"201104\",\"201105\",\"201106\",\"201107\",\"201108\",\"201109\",\"201110\",\"201111\",\"201112\"]"
   ]
  },
  {
   "cell_type": "code",
   "execution_count": 3,
   "metadata": {
    "collapsed": false
   },
   "outputs": [],
   "source": [
    "# Creamos una función para obtener los links de los meses/año de internet\n",
    "\n",
    "def link (xmlUrl, xmlPath):\n",
    "    print ('Link', xmlUrl)\n"
   ]
  },
  {
   "cell_type": "code",
   "execution_count": 4,
   "metadata": {
    "collapsed": false,
    "scrolled": true
   },
   "outputs": [
    {
     "name": "stdout",
     "output_type": "stream",
     "text": [
      "Link http://www.ncdc.noaa.gov/orders/qclcd/QCLCD201001.zip\n",
      "Link http://www.ncdc.noaa.gov/orders/qclcd/QCLCD201002.zip\n",
      "Link http://www.ncdc.noaa.gov/orders/qclcd/QCLCD201003.zip\n",
      "Link http://www.ncdc.noaa.gov/orders/qclcd/QCLCD201004.zip\n",
      "Link http://www.ncdc.noaa.gov/orders/qclcd/QCLCD201005.zip\n",
      "Link http://www.ncdc.noaa.gov/orders/qclcd/QCLCD201006.zip\n",
      "Link http://www.ncdc.noaa.gov/orders/qclcd/QCLCD201007.zip\n",
      "Link http://www.ncdc.noaa.gov/orders/qclcd/QCLCD201008.zip\n",
      "Link http://www.ncdc.noaa.gov/orders/qclcd/QCLCD201009.zip\n",
      "Link http://www.ncdc.noaa.gov/orders/qclcd/QCLCD201010.zip\n",
      "Link http://www.ncdc.noaa.gov/orders/qclcd/QCLCD201011.zip\n",
      "Link http://www.ncdc.noaa.gov/orders/qclcd/QCLCD201012.zip\n",
      "Link http://www.ncdc.noaa.gov/orders/qclcd/QCLCD201101.zip\n",
      "Link http://www.ncdc.noaa.gov/orders/qclcd/QCLCD201102.zip\n",
      "Link http://www.ncdc.noaa.gov/orders/qclcd/QCLCD201103.zip\n",
      "Link http://www.ncdc.noaa.gov/orders/qclcd/QCLCD201104.zip\n",
      "Link http://www.ncdc.noaa.gov/orders/qclcd/QCLCD201105.zip\n",
      "Link http://www.ncdc.noaa.gov/orders/qclcd/QCLCD201106.zip\n",
      "Link http://www.ncdc.noaa.gov/orders/qclcd/QCLCD201107.zip\n",
      "Link http://www.ncdc.noaa.gov/orders/qclcd/QCLCD201108.zip\n",
      "Link http://www.ncdc.noaa.gov/orders/qclcd/QCLCD201109.zip\n",
      "Link http://www.ncdc.noaa.gov/orders/qclcd/QCLCD201110.zip\n",
      "Link http://www.ncdc.noaa.gov/orders/qclcd/QCLCD201111.zip\n",
      "Link http://www.ncdc.noaa.gov/orders/qclcd/QCLCD201112.zip\n"
     ]
    }
   ],
   "source": [
    "# Vemos los ficheros ZIP de http://www.ncdc.noaa.gov dde esos años\n",
    "for fecha in fechas:\n",
    "    xmlUrl = 'http://www.ncdc.noaa.gov/orders/qclcd/QCLCD' + fecha + '.zip'\n",
    "    xmlPath = 'QCLCD' + fecha + '.zip'\n",
    "    link (xmlUrl, xmlPath)"
   ]
  },
  {
   "cell_type": "code",
   "execution_count": 5,
   "metadata": {
    "collapsed": true
   },
   "outputs": [],
   "source": [
    "# utilizando estos link nos los bajamos a local, a la carpeta donde tenemos el notebook"
   ]
  },
  {
   "cell_type": "code",
   "execution_count": 6,
   "metadata": {
    "collapsed": false,
    "scrolled": true
   },
   "outputs": [],
   "source": [
    "# Creamos un dataframe para agregar los datos\n",
    "lista = []\n"
   ]
  },
  {
   "cell_type": "code",
   "execution_count": 7,
   "metadata": {
    "collapsed": true
   },
   "outputs": [],
   "source": [
    "# Creamos una función para leer el contenido de los ficheros ZIP\n",
    "def Extraer_zip(ficherozip):\n",
    "    fzip = zipfile.ZipFile(ficherozip, 'r')\n",
    "    return fzip\n"
   ]
  },
  {
   "cell_type": "code",
   "execution_count": 8,
   "metadata": {
    "collapsed": false
   },
   "outputs": [
    {
     "name": "stdout",
     "output_type": "stream",
     "text": [
      "Fichero 1 de 24 : QCLCD201001.zip\n",
      "Fichero 2 de 24 : QCLCD201002.zip\n",
      "Fichero 3 de 24 : QCLCD201003.zip\n",
      "Fichero 4 de 24 : QCLCD201004.zip\n",
      "Fichero 5 de 24 : QCLCD201005.zip\n",
      "Fichero 6 de 24 : QCLCD201006.zip\n",
      "Fichero 7 de 24 : QCLCD201007.zip\n",
      "Fichero 8 de 24 : QCLCD201008.zip\n",
      "Fichero 9 de 24 : QCLCD201009.zip\n",
      "Fichero 10 de 24 : QCLCD201010.zip\n",
      "Fichero 11 de 24 : QCLCD201011.zip\n",
      "Fichero 12 de 24 : QCLCD201012.zip\n",
      "Fichero 13 de 24 : QCLCD201101.zip\n",
      "Fichero 14 de 24 : QCLCD201102.zip\n",
      "Fichero 15 de 24 : QCLCD201103.zip\n",
      "Fichero 16 de 24 : QCLCD201104.zip\n",
      "Fichero 17 de 24 : QCLCD201105.zip\n",
      "Fichero 18 de 24 : QCLCD201106.zip\n",
      "Fichero 19 de 24 : QCLCD201107.zip\n",
      "Fichero 20 de 24 : QCLCD201108.zip\n",
      "Fichero 21 de 24 : QCLCD201109.zip\n",
      "Fichero 22 de 24 : QCLCD201110.zip\n",
      "Fichero 23 de 24 : QCLCD201111.zip\n",
      "Fichero 24 de 24 : QCLCD201112.zip\n"
     ]
    }
   ],
   "source": [
    "# Leemos los ficheros ZIP, agregamos los datos y los almacenamos en el dataframe Datos \n",
    "contador = 0\n",
    "for fecha in fechas:\n",
    "    contador = contador + 1\n",
    "    \n",
    "    # Leemos el fichero ZIP y ponemos un mensaje en cada lectura para ver que lo esta haciendo\n",
    "    \n",
    "    namezip = 'QCLCD' + fecha + '.zip'\n",
    "    print ('Fichero', contador, 'de', len(fechas),':', namezip)\n",
    "    fzip = Extraer_zip(namezip)\n",
    "\n",
    "    # Leemos el fichero TXT de precipitaciones\n",
    "    \n",
    "    nametxt = fecha + 'precip.txt'\n",
    "    ftxt = fzip.read(nametxt)\n",
    "    fzip.close()\n",
    "\n",
    "    outfile = open(nametxt,'wb')\n",
    "    outfile.write(ftxt)\n",
    "    outfile.close()    \n",
    "\n",
    "    dfaux = pd.read_csv(nametxt, index_col=None, header=0)\n",
    "    lista.append(dfaux)\n",
    "\n",
    "datos = pd.concat(lista) "
   ]
  },
  {
   "cell_type": "code",
   "execution_count": 9,
   "metadata": {
    "collapsed": false
   },
   "outputs": [
    {
     "data": {
      "text/html": [
       "<div>\n",
       "<table border=\"1\" class=\"dataframe\">\n",
       "  <thead>\n",
       "    <tr style=\"text-align: right;\">\n",
       "      <th></th>\n",
       "      <th>Wban</th>\n",
       "      <th>YearMonthDay</th>\n",
       "      <th>Hour</th>\n",
       "      <th>Precipitation</th>\n",
       "      <th>PrecipitationFlag</th>\n",
       "    </tr>\n",
       "  </thead>\n",
       "  <tbody>\n",
       "    <tr>\n",
       "      <th>0</th>\n",
       "      <td>3011</td>\n",
       "      <td>20100101</td>\n",
       "      <td>1</td>\n",
       "      <td></td>\n",
       "      <td></td>\n",
       "    </tr>\n",
       "    <tr>\n",
       "      <th>1</th>\n",
       "      <td>3011</td>\n",
       "      <td>20100101</td>\n",
       "      <td>2</td>\n",
       "      <td></td>\n",
       "      <td></td>\n",
       "    </tr>\n",
       "    <tr>\n",
       "      <th>2</th>\n",
       "      <td>3011</td>\n",
       "      <td>20100101</td>\n",
       "      <td>3</td>\n",
       "      <td></td>\n",
       "      <td></td>\n",
       "    </tr>\n",
       "    <tr>\n",
       "      <th>3</th>\n",
       "      <td>3011</td>\n",
       "      <td>20100101</td>\n",
       "      <td>4</td>\n",
       "      <td></td>\n",
       "      <td></td>\n",
       "    </tr>\n",
       "    <tr>\n",
       "      <th>4</th>\n",
       "      <td>3011</td>\n",
       "      <td>20100101</td>\n",
       "      <td>5</td>\n",
       "      <td></td>\n",
       "      <td></td>\n",
       "    </tr>\n",
       "    <tr>\n",
       "      <th>5</th>\n",
       "      <td>3011</td>\n",
       "      <td>20100101</td>\n",
       "      <td>6</td>\n",
       "      <td></td>\n",
       "      <td></td>\n",
       "    </tr>\n",
       "    <tr>\n",
       "      <th>6</th>\n",
       "      <td>3011</td>\n",
       "      <td>20100101</td>\n",
       "      <td>7</td>\n",
       "      <td></td>\n",
       "      <td></td>\n",
       "    </tr>\n",
       "    <tr>\n",
       "      <th>7</th>\n",
       "      <td>3011</td>\n",
       "      <td>20100101</td>\n",
       "      <td>8</td>\n",
       "      <td></td>\n",
       "      <td></td>\n",
       "    </tr>\n",
       "    <tr>\n",
       "      <th>8</th>\n",
       "      <td>3011</td>\n",
       "      <td>20100101</td>\n",
       "      <td>9</td>\n",
       "      <td></td>\n",
       "      <td></td>\n",
       "    </tr>\n",
       "    <tr>\n",
       "      <th>9</th>\n",
       "      <td>3011</td>\n",
       "      <td>20100101</td>\n",
       "      <td>10</td>\n",
       "      <td></td>\n",
       "      <td></td>\n",
       "    </tr>\n",
       "    <tr>\n",
       "      <th>10</th>\n",
       "      <td>3011</td>\n",
       "      <td>20100101</td>\n",
       "      <td>11</td>\n",
       "      <td></td>\n",
       "      <td></td>\n",
       "    </tr>\n",
       "    <tr>\n",
       "      <th>11</th>\n",
       "      <td>3011</td>\n",
       "      <td>20100101</td>\n",
       "      <td>12</td>\n",
       "      <td></td>\n",
       "      <td></td>\n",
       "    </tr>\n",
       "    <tr>\n",
       "      <th>12</th>\n",
       "      <td>3011</td>\n",
       "      <td>20100101</td>\n",
       "      <td>13</td>\n",
       "      <td>0.01</td>\n",
       "      <td></td>\n",
       "    </tr>\n",
       "    <tr>\n",
       "      <th>13</th>\n",
       "      <td>3011</td>\n",
       "      <td>20100101</td>\n",
       "      <td>14</td>\n",
       "      <td>0.01</td>\n",
       "      <td></td>\n",
       "    </tr>\n",
       "    <tr>\n",
       "      <th>14</th>\n",
       "      <td>3011</td>\n",
       "      <td>20100101</td>\n",
       "      <td>15</td>\n",
       "      <td>0.01</td>\n",
       "      <td></td>\n",
       "    </tr>\n",
       "  </tbody>\n",
       "</table>\n",
       "</div>"
      ],
      "text/plain": [
       "    Wban  YearMonthDay  Hour Precipitation PrecipitationFlag\n",
       "0   3011      20100101     1                                \n",
       "1   3011      20100101     2                                \n",
       "2   3011      20100101     3                                \n",
       "3   3011      20100101     4                                \n",
       "4   3011      20100101     5                                \n",
       "5   3011      20100101     6                                \n",
       "6   3011      20100101     7                                \n",
       "7   3011      20100101     8                                \n",
       "8   3011      20100101     9                                \n",
       "9   3011      20100101    10                                \n",
       "10  3011      20100101    11                                \n",
       "11  3011      20100101    12                                \n",
       "12  3011      20100101    13          0.01                  \n",
       "13  3011      20100101    14          0.01                  \n",
       "14  3011      20100101    15          0.01                  "
      ]
     },
     "execution_count": 9,
     "metadata": {},
     "output_type": "execute_result"
    }
   ],
   "source": [
    "\n",
    "# Mostramos información del dataframe resultante\n",
    "\n",
    "datos.head(15)\n"
   ]
  },
  {
   "cell_type": "code",
   "execution_count": 10,
   "metadata": {
    "collapsed": false
   },
   "outputs": [],
   "source": [
    "# Añadimos una columna, PrecipitacionNum que es la variable Precipitation en tipo numérico para después poder después\n",
    "# hacer operaciones con ella (la media etc..)\n",
    "datos['PrecipitationNum'] = pd.to_numeric(datos['Precipitation'], errors = 'coerce')\n",
    "\n"
   ]
  },
  {
   "cell_type": "code",
   "execution_count": 11,
   "metadata": {
    "collapsed": false
   },
   "outputs": [
    {
     "data": {
      "text/html": [
       "<div>\n",
       "<table border=\"1\" class=\"dataframe\">\n",
       "  <thead>\n",
       "    <tr style=\"text-align: right;\">\n",
       "      <th></th>\n",
       "      <th>Wban</th>\n",
       "      <th>YearMonthDay</th>\n",
       "      <th>Hour</th>\n",
       "      <th>Precipitation</th>\n",
       "      <th>PrecipitationFlag</th>\n",
       "      <th>PrecipitationNum</th>\n",
       "    </tr>\n",
       "  </thead>\n",
       "  <tbody>\n",
       "    <tr>\n",
       "      <th>0</th>\n",
       "      <td>3011</td>\n",
       "      <td>20100101</td>\n",
       "      <td>1</td>\n",
       "      <td></td>\n",
       "      <td></td>\n",
       "      <td>NaN</td>\n",
       "    </tr>\n",
       "    <tr>\n",
       "      <th>1</th>\n",
       "      <td>3011</td>\n",
       "      <td>20100101</td>\n",
       "      <td>2</td>\n",
       "      <td></td>\n",
       "      <td></td>\n",
       "      <td>NaN</td>\n",
       "    </tr>\n",
       "    <tr>\n",
       "      <th>2</th>\n",
       "      <td>3011</td>\n",
       "      <td>20100101</td>\n",
       "      <td>3</td>\n",
       "      <td></td>\n",
       "      <td></td>\n",
       "      <td>NaN</td>\n",
       "    </tr>\n",
       "    <tr>\n",
       "      <th>3</th>\n",
       "      <td>3011</td>\n",
       "      <td>20100101</td>\n",
       "      <td>4</td>\n",
       "      <td></td>\n",
       "      <td></td>\n",
       "      <td>NaN</td>\n",
       "    </tr>\n",
       "    <tr>\n",
       "      <th>4</th>\n",
       "      <td>3011</td>\n",
       "      <td>20100101</td>\n",
       "      <td>5</td>\n",
       "      <td></td>\n",
       "      <td></td>\n",
       "      <td>NaN</td>\n",
       "    </tr>\n",
       "    <tr>\n",
       "      <th>5</th>\n",
       "      <td>3011</td>\n",
       "      <td>20100101</td>\n",
       "      <td>6</td>\n",
       "      <td></td>\n",
       "      <td></td>\n",
       "      <td>NaN</td>\n",
       "    </tr>\n",
       "    <tr>\n",
       "      <th>6</th>\n",
       "      <td>3011</td>\n",
       "      <td>20100101</td>\n",
       "      <td>7</td>\n",
       "      <td></td>\n",
       "      <td></td>\n",
       "      <td>NaN</td>\n",
       "    </tr>\n",
       "    <tr>\n",
       "      <th>7</th>\n",
       "      <td>3011</td>\n",
       "      <td>20100101</td>\n",
       "      <td>8</td>\n",
       "      <td></td>\n",
       "      <td></td>\n",
       "      <td>NaN</td>\n",
       "    </tr>\n",
       "    <tr>\n",
       "      <th>8</th>\n",
       "      <td>3011</td>\n",
       "      <td>20100101</td>\n",
       "      <td>9</td>\n",
       "      <td></td>\n",
       "      <td></td>\n",
       "      <td>NaN</td>\n",
       "    </tr>\n",
       "    <tr>\n",
       "      <th>9</th>\n",
       "      <td>3011</td>\n",
       "      <td>20100101</td>\n",
       "      <td>10</td>\n",
       "      <td></td>\n",
       "      <td></td>\n",
       "      <td>NaN</td>\n",
       "    </tr>\n",
       "    <tr>\n",
       "      <th>10</th>\n",
       "      <td>3011</td>\n",
       "      <td>20100101</td>\n",
       "      <td>11</td>\n",
       "      <td></td>\n",
       "      <td></td>\n",
       "      <td>NaN</td>\n",
       "    </tr>\n",
       "    <tr>\n",
       "      <th>11</th>\n",
       "      <td>3011</td>\n",
       "      <td>20100101</td>\n",
       "      <td>12</td>\n",
       "      <td></td>\n",
       "      <td></td>\n",
       "      <td>NaN</td>\n",
       "    </tr>\n",
       "    <tr>\n",
       "      <th>12</th>\n",
       "      <td>3011</td>\n",
       "      <td>20100101</td>\n",
       "      <td>13</td>\n",
       "      <td>0.01</td>\n",
       "      <td></td>\n",
       "      <td>0.01</td>\n",
       "    </tr>\n",
       "    <tr>\n",
       "      <th>13</th>\n",
       "      <td>3011</td>\n",
       "      <td>20100101</td>\n",
       "      <td>14</td>\n",
       "      <td>0.01</td>\n",
       "      <td></td>\n",
       "      <td>0.01</td>\n",
       "    </tr>\n",
       "    <tr>\n",
       "      <th>14</th>\n",
       "      <td>3011</td>\n",
       "      <td>20100101</td>\n",
       "      <td>15</td>\n",
       "      <td>0.01</td>\n",
       "      <td></td>\n",
       "      <td>0.01</td>\n",
       "    </tr>\n",
       "  </tbody>\n",
       "</table>\n",
       "</div>"
      ],
      "text/plain": [
       "    Wban  YearMonthDay  Hour Precipitation PrecipitationFlag  PrecipitationNum\n",
       "0   3011      20100101     1                                               NaN\n",
       "1   3011      20100101     2                                               NaN\n",
       "2   3011      20100101     3                                               NaN\n",
       "3   3011      20100101     4                                               NaN\n",
       "4   3011      20100101     5                                               NaN\n",
       "5   3011      20100101     6                                               NaN\n",
       "6   3011      20100101     7                                               NaN\n",
       "7   3011      20100101     8                                               NaN\n",
       "8   3011      20100101     9                                               NaN\n",
       "9   3011      20100101    10                                               NaN\n",
       "10  3011      20100101    11                                               NaN\n",
       "11  3011      20100101    12                                               NaN\n",
       "12  3011      20100101    13          0.01                                0.01\n",
       "13  3011      20100101    14          0.01                                0.01\n",
       "14  3011      20100101    15          0.01                                0.01"
      ]
     },
     "execution_count": 11,
     "metadata": {},
     "output_type": "execute_result"
    }
   ],
   "source": [
    "# vemos como quedó\n",
    "\n",
    "datos.head(15)"
   ]
  },
  {
   "cell_type": "code",
   "execution_count": 12,
   "metadata": {
    "collapsed": false
   },
   "outputs": [
    {
     "name": "stdout",
     "output_type": "stream",
     "text": [
      " \n",
      "Fecha que llovió como en Bilbao:\n"
     ]
    },
    {
     "data": {
      "text/html": [
       "<div>\n",
       "<table border=\"1\" class=\"dataframe\">\n",
       "  <thead>\n",
       "    <tr style=\"text-align: right;\">\n",
       "      <th></th>\n",
       "      <th>Wban</th>\n",
       "      <th>YearMonthDay</th>\n",
       "      <th>Hour</th>\n",
       "      <th>Precipitation</th>\n",
       "      <th>PrecipitationFlag</th>\n",
       "      <th>PrecipitationNum</th>\n",
       "    </tr>\n",
       "  </thead>\n",
       "  <tbody>\n",
       "    <tr>\n",
       "      <th>720755</th>\n",
       "      <td>24114</td>\n",
       "      <td>20101024</td>\n",
       "      <td>12</td>\n",
       "      <td>11.80</td>\n",
       "      <td>S</td>\n",
       "      <td>11.8</td>\n",
       "    </tr>\n",
       "  </tbody>\n",
       "</table>\n",
       "</div>"
      ],
      "text/plain": [
       "         Wban  YearMonthDay  Hour Precipitation PrecipitationFlag  \\\n",
       "720755  24114      20101024    12         11.80                 S   \n",
       "\n",
       "        PrecipitationNum  \n",
       "720755              11.8  "
      ]
     },
     "execution_count": 12,
     "metadata": {},
     "output_type": "execute_result"
    }
   ],
   "source": [
    "# vamos a ver que día fue el que mas llovió, para ello seleccionamos el registro con el valor máximo en PrecipitationNum\n",
    "\n",
    "Datos_max = datos[datos[\"PrecipitationNum\"]==datos[\"PrecipitationNum\"].max()]\n",
    "\n",
    "print (' ')\n",
    "\n",
    "print (\"Fecha que llovió como en Bilbao:\")\n",
    "\n",
    "Datos_max"
   ]
  },
  {
   "cell_type": "code",
   "execution_count": 13,
   "metadata": {
    "collapsed": false
   },
   "outputs": [
    {
     "name": "stdout",
     "output_type": "stream",
     "text": [
      " \n",
      "Tiempo que llevó --> 0.29580068588256836\n"
     ]
    }
   ],
   "source": [
    "# Para ver cuanto tiempo le lleva al sistema seleccionar el registro con el valor maximo en PrecipitationNum\n",
    "# Vamos a repetir operación calculando el tiempo:\n",
    "\n",
    "# Tomamos el tiempo al principio\n",
    "timeIniDF = time()\n",
    "\n",
    "# Buscamos de nuevo el día que ha habido más precipitaciones\n",
    "\n",
    "Datos_max = datos[datos[\"PrecipitationNum\"]==datos[\"PrecipitationNum\"].max()]\n",
    "\n",
    "\n",
    "# Tomamos el tiempo al final y obtenemos el tiempo que ha llevado\n",
    "timeFinDF = time() \n",
    "\n",
    "# Y restamos\n",
    "\n",
    "print (' ')\n",
    "print ('Tiempo que llevó -->', timeFinDF-timeIniDF)\n",
    "\n"
   ]
  },
  {
   "cell_type": "code",
   "execution_count": 14,
   "metadata": {
    "collapsed": false
   },
   "outputs": [],
   "source": [
    "\n",
    "# Creamos otra columna que se llame año\n",
    "datos['Year'] = datos.YearMonthDay.apply(lambda x: str(x)[0:4])\n"
   ]
  },
  {
   "cell_type": "code",
   "execution_count": 15,
   "metadata": {
    "collapsed": false
   },
   "outputs": [
    {
     "data": {
      "text/html": [
       "<div>\n",
       "<table border=\"1\" class=\"dataframe\">\n",
       "  <thead>\n",
       "    <tr style=\"text-align: right;\">\n",
       "      <th></th>\n",
       "      <th>Wban</th>\n",
       "      <th>YearMonthDay</th>\n",
       "      <th>Hour</th>\n",
       "      <th>Precipitation</th>\n",
       "      <th>PrecipitationFlag</th>\n",
       "      <th>PrecipitationNum</th>\n",
       "      <th>Year</th>\n",
       "    </tr>\n",
       "  </thead>\n",
       "  <tbody>\n",
       "    <tr>\n",
       "      <th>0</th>\n",
       "      <td>3011</td>\n",
       "      <td>20100101</td>\n",
       "      <td>1</td>\n",
       "      <td></td>\n",
       "      <td></td>\n",
       "      <td>NaN</td>\n",
       "      <td>2010</td>\n",
       "    </tr>\n",
       "    <tr>\n",
       "      <th>1</th>\n",
       "      <td>3011</td>\n",
       "      <td>20100101</td>\n",
       "      <td>2</td>\n",
       "      <td></td>\n",
       "      <td></td>\n",
       "      <td>NaN</td>\n",
       "      <td>2010</td>\n",
       "    </tr>\n",
       "    <tr>\n",
       "      <th>2</th>\n",
       "      <td>3011</td>\n",
       "      <td>20100101</td>\n",
       "      <td>3</td>\n",
       "      <td></td>\n",
       "      <td></td>\n",
       "      <td>NaN</td>\n",
       "      <td>2010</td>\n",
       "    </tr>\n",
       "    <tr>\n",
       "      <th>3</th>\n",
       "      <td>3011</td>\n",
       "      <td>20100101</td>\n",
       "      <td>4</td>\n",
       "      <td></td>\n",
       "      <td></td>\n",
       "      <td>NaN</td>\n",
       "      <td>2010</td>\n",
       "    </tr>\n",
       "    <tr>\n",
       "      <th>4</th>\n",
       "      <td>3011</td>\n",
       "      <td>20100101</td>\n",
       "      <td>5</td>\n",
       "      <td></td>\n",
       "      <td></td>\n",
       "      <td>NaN</td>\n",
       "      <td>2010</td>\n",
       "    </tr>\n",
       "  </tbody>\n",
       "</table>\n",
       "</div>"
      ],
      "text/plain": [
       "   Wban  YearMonthDay  Hour Precipitation PrecipitationFlag  PrecipitationNum  \\\n",
       "0  3011      20100101     1                                               NaN   \n",
       "1  3011      20100101     2                                               NaN   \n",
       "2  3011      20100101     3                                               NaN   \n",
       "3  3011      20100101     4                                               NaN   \n",
       "4  3011      20100101     5                                               NaN   \n",
       "\n",
       "   Year  \n",
       "0  2010  \n",
       "1  2010  \n",
       "2  2010  \n",
       "3  2010  \n",
       "4  2010  "
      ]
     },
     "execution_count": 15,
     "metadata": {},
     "output_type": "execute_result"
    }
   ],
   "source": [
    "# vemos como quedó\n",
    "datos.head()"
   ]
  },
  {
   "cell_type": "code",
   "execution_count": 16,
   "metadata": {
    "collapsed": false
   },
   "outputs": [
    {
     "name": "stdout",
     "output_type": "stream",
     "text": [
      "Year\n",
      "2010    0.067218\n",
      "2011    0.068329\n",
      "Name: PrecipitationNum, dtype: float64\n"
     ]
    }
   ],
   "source": [
    "# Vamos a obtener la media de precipitaciones por año\n",
    "\n",
    "Lluviaaño = datos.groupby(['Year'])\n",
    "\n",
    "Lluviaaño ['PrecipitationNum'].aggregate(np.mean)\n",
    "\n",
    "media_anual = Lluviaaño ['PrecipitationNum'].aggregate(np.mean)\n",
    "\n",
    "print (media_anual)"
   ]
  },
  {
   "cell_type": "code",
   "execution_count": 17,
   "metadata": {
    "collapsed": false
   },
   "outputs": [
    {
     "name": "stdout",
     "output_type": "stream",
     "text": [
      "And the winner is: 2011 \n"
     ]
    }
   ],
   "source": [
    "print ('And the winner is: 2011 ')"
   ]
  },
  {
   "cell_type": "code",
   "execution_count": 18,
   "metadata": {
    "collapsed": false,
    "scrolled": true
   },
   "outputs": [
    {
     "name": "stdout",
     "output_type": "stream",
     "text": [
      "Tamaño: 240924432\n"
     ]
    }
   ],
   "source": [
    "# Por útimo vemos que tamaño tiene en memoria:\n",
    "Tamaño = datos.size\n",
    "print (\"Tamaño:\", Tamaño)\n"
   ]
  },
  {
   "cell_type": "markdown",
   "metadata": {
    "collapsed": false
   },
   "source": [
    "Se pide realizar el análisis en dos versiones:\n",
    "\n",
    "- Una utilizando DataFrames y los ficheros de texto que se decargan directamente.\n",
    "- Una segunda con un paso previo en el que se guardan los datos en un fichero HDF5 (que debe contener los metadatos descriptivos necesarios). Queda a la decisión del estudiante cómo organizar los datos en el fichero.\n",
    "\n",
    "Y se pide comparar:\n",
    "\n",
    "- El tamaño en disco que ocupan los datos en cada una de las versiones.\n",
    "- El tiempo comparado de ejecución de los resúmenes anteriores.\n",
    "\n",
    "Opcional: finalmente, se platea el almacenar en el fichero HDF5 los resúmenes mismos obtenidos y comparar el tiempo de recuperación de esos datos del fichero con el tiempo tardado en calcularlo."
   ]
  },
  {
   "cell_type": "code",
   "execution_count": 19,
   "metadata": {
    "collapsed": true
   },
   "outputs": [],
   "source": [
    "# Importamos la librería para trabajar con HDF5 y Pandas\n",
    "from pandas import HDFStore, DataFrame"
   ]
  },
  {
   "cell_type": "code",
   "execution_count": 20,
   "metadata": {
    "collapsed": true
   },
   "outputs": [],
   "source": [
    "# Asignamos nombre a la tabla y al fichero HDF5\n",
    "hdf5datos = \"tabla/hdf5_precipitaciones\"\n",
    "hdf5filename = \"hdf5_precipitaciones.h5\"\n",
    "\n",
    "# Eliminamos el fichero\n",
    "try:\n",
    "    os.remove(hdf5filename)\n",
    "except OSError:\n",
    "    pass\n",
    "\n",
    "hdf = HDFStore(hdf5filename)\n",
    "\n",
    "# A continucaión vamos a guardar el dataframe en fichero hdf5\n",
    "hdf.put(hdf5datos, datos, format='table', data_columns=True)\n"
   ]
  },
  {
   "cell_type": "code",
   "execution_count": 22,
   "metadata": {
    "collapsed": false
   },
   "outputs": [
    {
     "name": "stdout",
     "output_type": "stream",
     "text": [
      "(34417776, 7)\n"
     ]
    },
    {
     "data": {
      "text/html": [
       "<div>\n",
       "<table border=\"1\" class=\"dataframe\">\n",
       "  <thead>\n",
       "    <tr style=\"text-align: right;\">\n",
       "      <th></th>\n",
       "      <th>Wban</th>\n",
       "      <th>YearMonthDay</th>\n",
       "      <th>Hour</th>\n",
       "      <th>Precipitation</th>\n",
       "      <th>PrecipitationFlag</th>\n",
       "      <th>PrecipitationNum</th>\n",
       "      <th>Year</th>\n",
       "    </tr>\n",
       "  </thead>\n",
       "  <tbody>\n",
       "    <tr>\n",
       "      <th>0</th>\n",
       "      <td>3011</td>\n",
       "      <td>20100101</td>\n",
       "      <td>1</td>\n",
       "      <td></td>\n",
       "      <td></td>\n",
       "      <td>NaN</td>\n",
       "      <td>2010</td>\n",
       "    </tr>\n",
       "    <tr>\n",
       "      <th>1</th>\n",
       "      <td>3011</td>\n",
       "      <td>20100101</td>\n",
       "      <td>2</td>\n",
       "      <td></td>\n",
       "      <td></td>\n",
       "      <td>NaN</td>\n",
       "      <td>2010</td>\n",
       "    </tr>\n",
       "    <tr>\n",
       "      <th>2</th>\n",
       "      <td>3011</td>\n",
       "      <td>20100101</td>\n",
       "      <td>3</td>\n",
       "      <td></td>\n",
       "      <td></td>\n",
       "      <td>NaN</td>\n",
       "      <td>2010</td>\n",
       "    </tr>\n",
       "    <tr>\n",
       "      <th>3</th>\n",
       "      <td>3011</td>\n",
       "      <td>20100101</td>\n",
       "      <td>4</td>\n",
       "      <td></td>\n",
       "      <td></td>\n",
       "      <td>NaN</td>\n",
       "      <td>2010</td>\n",
       "    </tr>\n",
       "    <tr>\n",
       "      <th>4</th>\n",
       "      <td>3011</td>\n",
       "      <td>20100101</td>\n",
       "      <td>5</td>\n",
       "      <td></td>\n",
       "      <td></td>\n",
       "      <td>NaN</td>\n",
       "      <td>2010</td>\n",
       "    </tr>\n",
       "  </tbody>\n",
       "</table>\n",
       "</div>"
      ],
      "text/plain": [
       "   Wban  YearMonthDay  Hour Precipitation PrecipitationFlag  PrecipitationNum  \\\n",
       "0  3011      20100101     1                                               NaN   \n",
       "1  3011      20100101     2                                               NaN   \n",
       "2  3011      20100101     3                                               NaN   \n",
       "3  3011      20100101     4                                               NaN   \n",
       "4  3011      20100101     5                                               NaN   \n",
       "\n",
       "   Year  \n",
       "0  2010  \n",
       "1  2010  \n",
       "2  2010  \n",
       "3  2010  \n",
       "4  2010  "
      ]
     },
     "execution_count": 22,
     "metadata": {},
     "output_type": "execute_result"
    }
   ],
   "source": [
    "\n",
    "# Vemos como quedó\n",
    "\n",
    "print (hdf[hdf5datos].shape)\n",
    "hdf[hdf5datos].head()"
   ]
  },
  {
   "cell_type": "code",
   "execution_count": 23,
   "metadata": {
    "collapsed": true
   },
   "outputs": [],
   "source": [
    "# Vamos a llevar los datos a un data frame: datos, pero esta vez tendra apellido: _hdf5\n",
    "\n",
    "datos_hdf5=hdf[hdf5datos]"
   ]
  },
  {
   "cell_type": "code",
   "execution_count": 31,
   "metadata": {
    "collapsed": false
   },
   "outputs": [
    {
     "name": "stdout",
     "output_type": "stream",
     "text": [
      " \n",
      "Fecha que llovió como en Bilbao:\n",
      "         Wban  YearMonthDay  Hour Precipitation PrecipitationFlag  \\\n",
      "720755  24114      20101024    12         11.80                 S   \n",
      "\n",
      "        PrecipitationNum  Year  \n",
      "720755              11.8  2010  \n",
      " \n",
      "Tiempo que llevó hdf5 --> 0.6521427631378174\n"
     ]
    }
   ],
   "source": [
    "\n",
    "# una vezz más vamos a ver cuanto tiempo le lleva al sistemma buscar el diía más lluvioso y medirlo \n",
    "\n",
    "# Tomamos el tiempo al principio\n",
    "timeIniDF = time()\n",
    "\n",
    "\n",
    "print (' ')\n",
    "\n",
    "print (\"Fecha que llovió como en Bilbao:\")\n",
    "\n",
    "maximo = datos_hdf5[datos_hdf5[\"PrecipitationNum\"]==datos_hdf5[\"PrecipitationNum\"].max()]\n",
    "\n",
    "print (maximo)\n",
    "\n",
    "# Tomamos el tiempo al final y obtenemos el tiempo que ha llevado\n",
    "timeFinDF = time() \n",
    "\n",
    "# Y restamos\n",
    "\n",
    "print (' ')\n",
    "print ('Tiempo que llevó hdf5 -->', timeFinDF-timeIniDF)\n"
   ]
  },
  {
   "cell_type": "code",
   "execution_count": 28,
   "metadata": {
    "collapsed": false
   },
   "outputs": [
    {
     "name": "stdout",
     "output_type": "stream",
     "text": [
      "Year\n",
      "2010    0.067218\n",
      "2011    0.068329\n",
      "Name: PrecipitationNum, dtype: float64\n"
     ]
    }
   ],
   "source": [
    "# Vamos a obtener la media de precipitaciones por año (y como no nos salgan los mismos resutados habiendo tomado \n",
    "# los mismos datos... malo)\n",
    "\n",
    "Lluviaaño = datos_hdf5.groupby(['Year'])\n",
    "\n",
    "Lluviaaño ['PrecipitationNum'].aggregate(np.mean)\n",
    "\n",
    "media_anual = Lluviaaño ['PrecipitationNum'].aggregate(np.mean)\n",
    "\n",
    "print (media_anual)"
   ]
  },
  {
   "cell_type": "code",
   "execution_count": 29,
   "metadata": {
    "collapsed": false
   },
   "outputs": [
    {
     "name": "stdout",
     "output_type": "stream",
     "text": [
      "And the winner is: 2011 \n"
     ]
    }
   ],
   "source": [
    "# bueno :o)\n",
    "\n",
    "print ('And the winner is: 2011 ')"
   ]
  },
  {
   "cell_type": "code",
   "execution_count": 32,
   "metadata": {
    "collapsed": false
   },
   "outputs": [
    {
     "name": "stdout",
     "output_type": "stream",
     "text": [
      "Tamaño: 240924432\n"
     ]
    }
   ],
   "source": [
    "# Por útimo vemos que tamaño tiene en memoria:\n",
    "Tamaño = datos_hdf5.size\n",
    "print (\"Tamaño:\", Tamaño)"
   ]
  },
  {
   "cell_type": "code",
   "execution_count": 39,
   "metadata": {
    "collapsed": false
   },
   "outputs": [
    {
     "name": "stdout",
     "output_type": "stream",
     "text": [
      "1721112750\n"
     ]
    }
   ],
   "source": [
    "# vamos a ver el tamño en disco\n",
    "\n",
    "Tamaño_disco = hdf.root.tabla.hdf5_precipitaciones.table.size_on_disk\n",
    "print (Tamaño_disco)"
   ]
  },
  {
   "cell_type": "code",
   "execution_count": null,
   "metadata": {
    "collapsed": false,
    "scrolled": true
   },
   "outputs": [],
   "source": [
    "# Al comparar vemos que:\n",
    "\n",
    "# los resultados de media por año y día más lluvioso es el mismo (menos mal porque si no algún error tendríamos en la toma\n",
    "# de datos  :o)\n",
    "\n",
    "# La velocidad me aparece el doble de lento HDF5: 0.29580068588256836 vs  0.6521427631378174\n",
    "\n",
    "# Y en cuanto a tamaño en memoria, es el mismo: 240924432\n"
   ]
  },
  {
   "cell_type": "code",
   "execution_count": null,
   "metadata": {
    "collapsed": false
   },
   "outputs": [],
   "source": []
  },
  {
   "cell_type": "code",
   "execution_count": null,
   "metadata": {
    "collapsed": false
   },
   "outputs": [],
   "source": []
  },
  {
   "cell_type": "code",
   "execution_count": null,
   "metadata": {
    "collapsed": true
   },
   "outputs": [],
   "source": []
  },
  {
   "cell_type": "code",
   "execution_count": null,
   "metadata": {
    "collapsed": true
   },
   "outputs": [],
   "source": []
  }
 ],
 "metadata": {
  "anaconda-cloud": {},
  "kernelspec": {
   "display_name": "Python [Root]",
   "language": "python",
   "name": "Python [Root]"
  },
  "language_info": {
   "codemirror_mode": {
    "name": "ipython",
    "version": 3
   },
   "file_extension": ".py",
   "mimetype": "text/x-python",
   "name": "python",
   "nbconvert_exporter": "python",
   "pygments_lexer": "ipython3",
   "version": "3.5.2"
  }
 },
 "nbformat": 4,
 "nbformat_minor": 0
}
